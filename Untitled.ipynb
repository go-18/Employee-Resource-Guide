{
 "cells": [
  {
   "cell_type": "code",
   "execution_count": 1,
   "metadata": {
    "collapsed": false
   },
   "outputs": [],
   "source": [
    "import sys, os\n",
    "from os.path import relpath\n",
    "import shutil, errno\n",
    "import json\n",
    "\n",
    "sys.path.append('libs')\n",
    "import markdown"
   ]
  },
  {
   "cell_type": "code",
   "execution_count": 96,
   "metadata": {
    "collapsed": false
   },
   "outputs": [],
   "source": [
    "def read_markdown_file_as_html(markdown_filename):\n",
    "    f = open(markdown_filename, 'r')\n",
    "    markdown_content = f.read()\n",
    "    return markdown.markdown(markdown_content)\n",
    "\n",
    "\n",
    "def walk_dir(root_dir):\n",
    "    \"\"\"\n",
    "    >>> walk_dir(\"./test_docs/folder containing pdfs/\").documents\n",
    "    ['dummy_pdf 2.pdf', 'dummy_pdf 3.pdf', 'dummy_pdf 4.pdf', 'dummy_pdf.pdf']\n",
    "    >>> len(walk_dir(\"./test_docs/folder containing pdfs/\").children)\n",
    "    0\n",
    "    >>> walk_dir(\"./test_docs/folder containing markdown and pdfs/\").stub is None\n",
    "    False\n",
    "    >>> walk_dir(\"./test_docs/folder containing markdown and pdfs/\").children\n",
    "    ['dummy_pdf 2.pdf', 'dummy_pdf 3.pdf', 'dummy_pdf 4.pdf', 'dummy_pdf.pdf']\n",
    "    \"\"\"\n",
    "    # print('walking directory at {0}'.format(root_dir))\n",
    "    folder_name = os.path.splitext(os.path.basename(root_dir))[0]\n",
    "    store = {'name' : folder_name, 'stub': None, 'docs' : [], 'children':[], 'abs_path':root_dir}\n",
    "    for item in os.listdir(root_dir):\n",
    "        path = os.path.join(os.path.abspath(root_dir), item)\n",
    "        # print('item is {0}'.format(item))\n",
    "        if os.path.isfile(path):\n",
    "            if item.endswith(\".pdf\"):\n",
    "                store['docs'].append(item)\n",
    "            elif item.endswith(\".md\"):\n",
    "                store['stub'] = read_markdown_file_as_html(path)\n",
    "        if os.path.isdir(path) and dir_contains_pdf(path):\n",
    "            store['children'].append(walk_dir(path))\n",
    "    return store\n",
    "\n",
    "def dir_contains_pdf(root):\n",
    "    \"\"\"\n",
    "    >>> dir_contains_pdf(\"./test_docs/folder containing pdfs/\")\n",
    "    True\n",
    "    >>> dir_contains_pdf(\"./test_docs/folder containing nothing/\")\n",
    "    False\n",
    "    >>> dir_contains_pdf(\"./test_docs/folder containing folders, markdown, and pdf/\")\n",
    "    True\n",
    "    >>> dir_contains_pdf(\"./test_docs/folder containing markdown and pdfs/\")\n",
    "    True\n",
    "    \"\"\"\n",
    "    root = os.path.abspath(root)\n",
    "    for item in os.listdir(root):\n",
    "        item_path = os.path.join(root, item)\n",
    "        if os.path.isfile(item_path):\n",
    "            if item.endswith(\".pdf\"):\n",
    "                return True\n",
    "        elif os.path.isdir(item_path):\n",
    "            if dir_contains_pdf(item_path):\n",
    "                return True\n",
    "    return False\n"
   ]
  },
  {
   "cell_type": "code",
   "execution_count": 97,
   "metadata": {
    "collapsed": false
   },
   "outputs": [
    {
     "name": "stdout",
     "output_type": "stream",
     "text": [
      "\"test_folder_1\"\n",
      "\"./test_folder_1/resources\"\n"
     ]
    }
   ],
   "source": [
    "in_dir = \"./test_docs/test_folder_1\"\n",
    "\n",
    "in_dir_label = os.path.split(in_dir)[1:][0]\n",
    "out_dir = os.path.join(os.path.dirname('./'), in_dir_label)\n",
    "out_resources_dir = os.path.join(os.path.dirname('./'), in_dir_label+os.path.sep+'resources')\n",
    "print('\"{0}\"'.format(in_dir_label))\n",
    "print('\"{0}\"'.format(out_resources_dir))"
   ]
  },
  {
   "cell_type": "code",
   "execution_count": 121,
   "metadata": {
    "collapsed": false
   },
   "outputs": [
    {
     "name": "stdout",
     "output_type": "stream",
     "text": [
      "{\n",
      "  \"abs_path\": \"/Users/falconer_k/git/vta/employee-resource-guide/test_docs/test_folder_1\",\n",
      "  \"docs\": [\n",
      "    \"dummy PDF 1.pdf\",\n",
      "    \"dummy PDF 2.pdf\",\n",
      "    \"dummy PDF 3.pdf\",\n",
      "    \"dummy PDF 4.pdf\"\n",
      "  ],\n",
      "  \"children\": [\n",
      "    {\n",
      "      \"abs_path\": \"/Users/falconer_k/git/vta/employee-resource-guide/test_docs/test_folder_1/sub_folder_1\",\n",
      "      \"docs\": [\n",
      "        \"dummy PDF 1.pdf\",\n",
      "        \"dummy PDF 2.pdf\",\n",
      "        \"dummy PDF 3.pdf\",\n",
      "        \"dummy PDF 4.pdf\"\n",
      "      ],\n",
      "      \"children\": [],\n",
      "      \"name\": \"sub_folder_1\",\n",
      "      \"stub\": null\n",
      "    },\n",
      "    {\n",
      "      \"abs_path\": \"/Users/falconer_k/git/vta/employee-resource-guide/test_docs/test_folder_1/sub_folder_2\",\n",
      "      \"docs\": [\n",
      "        \"dummy PDF 1.pdf\",\n",
      "        \"dummy PDF 2.pdf\",\n",
      "        \"dummy PDF 3.pdf\",\n",
      "        \"dummy PDF 4.pdf\"\n",
      "      ],\n",
      "      \"children\": [],\n",
      "      \"name\": \"sub_folder_2\",\n",
      "      \"stub\": null\n",
      "    }\n",
      "  ],\n",
      "  \"name\": \"test_folder_1\",\n",
      "  \"stub\": \"<h1>Test Folder 1</h1>\\n<p>This folder contains PDFs in the root and one additional level of folders which also contain PDFs.</p>\"\n",
      "}\n"
     ]
    }
   ],
   "source": [
    "in_dir = \"./test_docs/test_folder_1\"\n",
    "\n",
    "source_items = walk_dir(os.path.abspath(in_dir))\n",
    "\n",
    "print(json.dumps(source_items, indent=2))"
   ]
  },
  {
   "cell_type": "code",
   "execution_count": 118,
   "metadata": {
    "collapsed": false
   },
   "outputs": [],
   "source": [
    "def make_relative(item, work_dir):\n",
    "    item_dir = item.pop('abs_path', None)\n",
    "    if item_dir is not None:\n",
    "        item['rel_path'] = os.path.relpath(item_dir, work_dir)\n",
    "    for child in item['children']:\n",
    "        child = make_relative(child, work_dir)\n",
    "    return item\n",
    "\n",
    "\n"
   ]
  },
  {
   "cell_type": "code",
   "execution_count": 119,
   "metadata": {
    "collapsed": false,
    "scrolled": true
   },
   "outputs": [],
   "source": [
    "def populate_template(template, page_title, toc_data, resources_path):\n",
    "    f = open(template, 'r')\n",
    "    template_content = f.read()\n",
    "    return template_content \\\n",
    "        .replace(\"{page-title}\", page_title) \\\n",
    "        .replace(\"{toc-data}\", toc_data) \\\n",
    "        .replace(\"{resources-path}\", resources_path+os.path.sep) \\\n",
    "        .replace(\"{head-comment}\", \"\\n\\t\\tPLEASE DO NOT EDIT THIS FILE\\n\\t\\tTHIS FILE IS DYNAMICALLY GENERATED.\\n\\t\\tANY CHANGES MADE MAY BE OVERWRITTEN.\\n\")"
   ]
  },
  {
   "cell_type": "code",
   "execution_count": 120,
   "metadata": {
    "collapsed": false
   },
   "outputs": [
    {
     "data": {
      "text/plain": [
       "'./test_folder_1.html'"
      ]
     },
     "execution_count": 120,
     "metadata": {},
     "output_type": "execute_result"
    }
   ],
   "source": [
    "RESOURCES_DIR=\"resources\"\n",
    "\n",
    "def build_page(item, out_dir):\n",
    "\n",
    "    p_name = str('None' if item['name'] is None else item['name'])\n",
    "    rel_path = os.path.join(out_dir, str(p_name)+'.html')\n",
    "    \n",
    "    with open(rel_path, \"w\") as f:\n",
    "        resources_path = os.path.relpath(RESOURCES_DIR, out_dir)\n",
    "        page_html = populate_template(\"template.html\", p_name, json.dumps(item, indent=2), resources_path)\n",
    "        f.write(page_html)\n",
    "    return rel_path\n",
    "\n",
    "\n",
    "rel_items = make_relative(source_items, './')\n",
    "build_page(rel_items, './')"
   ]
  },
  {
   "cell_type": "code",
   "execution_count": null,
   "metadata": {
    "collapsed": true
   },
   "outputs": [],
   "source": []
  }
 ],
 "metadata": {
  "anaconda-cloud": {},
  "kernelspec": {
   "display_name": "Python [Root]",
   "language": "python",
   "name": "Python [Root]"
  },
  "language_info": {
   "codemirror_mode": {
    "name": "ipython",
    "version": 3
   },
   "file_extension": ".py",
   "mimetype": "text/x-python",
   "name": "python",
   "nbconvert_exporter": "python",
   "pygments_lexer": "ipython3",
   "version": "3.5.2"
  }
 },
 "nbformat": 4,
 "nbformat_minor": 0
}
